{
  "cells": [
    {
      "cell_type": "markdown",
      "id": "69ba39ba",
      "metadata": {
        "id": "69ba39ba"
      },
      "source": [
        "BYTEWISE MACHINE LEARNING/ DEEP LEARNING FINAL TASK BY HASHIR AZIZ"
      ]
    },
    {
      "cell_type": "markdown",
      "id": "22c7f055",
      "metadata": {
        "id": "22c7f055"
      },
      "source": [
        "TRACK LEAD : ZAYAN RASHID RANA"
      ]
    },
    {
      "cell_type": "markdown",
      "id": "800f7e75",
      "metadata": {
        "id": "800f7e75"
      },
      "source": [
        "PROJECT NAME : HANDWRITTEN DIGIT RECONGNITION SYSTEM USING CNN"
      ]
    },
    {
      "cell_type": "code",
      "execution_count": 1,
      "id": "d0d23937",
      "metadata": {
        "id": "d0d23937"
      },
      "outputs": [],
      "source": [
        "import tensorflow as tf\n",
        "from tensorflow.keras.datasets import mnist\n",
        "from tensorflow.keras.models import Sequential\n",
        "from tensorflow.keras.layers import Conv2D, MaxPooling2D, Flatten, Dense, Dropout\n",
        "from tensorflow.keras.optimizers import Adam\n"
      ]
    },
    {
      "cell_type": "markdown",
      "id": "34aa9dfd",
      "metadata": {
        "id": "34aa9dfd"
      },
      "source": [
        "Steps:\n",
        "1- Importing the mnist from tensorflow top lib Keras.datasets\n",
        "2- Normalize the data for better model prediction\n",
        "3- Reshaping the images to 28*28 pixels\n",
        "4- Model I am are using is Sequential model (The most simplest one)\n",
        "5- Adding Layers to our model and also dropping off so to reduce overfitting\n",
        "6- Compiling the model, optimzer used here is Adam and learning rate is 0.1%\n",
        "7- Traing the model by running 30 epochs for better accuracy\n",
        "8- Evelvate the model"
      ]
    },
    {
      "cell_type": "code",
      "execution_count": 2,
      "id": "97b94a57",
      "metadata": {
        "colab": {
          "base_uri": "https://localhost:8080/"
        },
        "id": "97b94a57",
        "outputId": "736dfee7-e128-4cc6-899b-194f9189cafe"
      },
      "outputs": [
        {
          "output_type": "stream",
          "name": "stdout",
          "text": [
            "Downloading data from https://storage.googleapis.com/tensorflow/tf-keras-datasets/mnist.npz\n",
            "\u001b[1m11490434/11490434\u001b[0m \u001b[32m━━━━━━━━━━━━━━━━━━━━\u001b[0m\u001b[37m\u001b[0m \u001b[1m0s\u001b[0m 0us/step\n"
          ]
        },
        {
          "output_type": "stream",
          "name": "stderr",
          "text": [
            "/usr/local/lib/python3.10/dist-packages/keras/src/layers/convolutional/base_conv.py:107: UserWarning: Do not pass an `input_shape`/`input_dim` argument to a layer. When using Sequential models, prefer using an `Input(shape)` object as the first layer in the model instead.\n",
            "  super().__init__(activity_regularizer=activity_regularizer, **kwargs)\n"
          ]
        },
        {
          "output_type": "stream",
          "name": "stdout",
          "text": [
            "Epoch 1/30\n",
            "\u001b[1m938/938\u001b[0m \u001b[32m━━━━━━━━━━━━━━━━━━━━\u001b[0m\u001b[37m\u001b[0m \u001b[1m22s\u001b[0m 11ms/step - accuracy: 0.6892 - loss: 0.9183 - val_accuracy: 0.9734 - val_loss: 0.0834\n",
            "Epoch 2/30\n",
            "\u001b[1m938/938\u001b[0m \u001b[32m━━━━━━━━━━━━━━━━━━━━\u001b[0m\u001b[37m\u001b[0m \u001b[1m5s\u001b[0m 4ms/step - accuracy: 0.9624 - loss: 0.1464 - val_accuracy: 0.9787 - val_loss: 0.0743\n",
            "Epoch 3/30\n",
            "\u001b[1m938/938\u001b[0m \u001b[32m━━━━━━━━━━━━━━━━━━━━\u001b[0m\u001b[37m\u001b[0m \u001b[1m4s\u001b[0m 4ms/step - accuracy: 0.9764 - loss: 0.0949 - val_accuracy: 0.9829 - val_loss: 0.0627\n",
            "Epoch 4/30\n",
            "\u001b[1m938/938\u001b[0m \u001b[32m━━━━━━━━━━━━━━━━━━━━\u001b[0m\u001b[37m\u001b[0m \u001b[1m5s\u001b[0m 3ms/step - accuracy: 0.9794 - loss: 0.0805 - val_accuracy: 0.9819 - val_loss: 0.0659\n",
            "Epoch 5/30\n",
            "\u001b[1m938/938\u001b[0m \u001b[32m━━━━━━━━━━━━━━━━━━━━\u001b[0m\u001b[37m\u001b[0m \u001b[1m5s\u001b[0m 3ms/step - accuracy: 0.9845 - loss: 0.0641 - val_accuracy: 0.9862 - val_loss: 0.0565\n",
            "Epoch 6/30\n",
            "\u001b[1m938/938\u001b[0m \u001b[32m━━━━━━━━━━━━━━━━━━━━\u001b[0m\u001b[37m\u001b[0m \u001b[1m3s\u001b[0m 3ms/step - accuracy: 0.9868 - loss: 0.0563 - val_accuracy: 0.9886 - val_loss: 0.0494\n",
            "Epoch 7/30\n",
            "\u001b[1m938/938\u001b[0m \u001b[32m━━━━━━━━━━━━━━━━━━━━\u001b[0m\u001b[37m\u001b[0m \u001b[1m5s\u001b[0m 3ms/step - accuracy: 0.9886 - loss: 0.0454 - val_accuracy: 0.9868 - val_loss: 0.0580\n",
            "Epoch 8/30\n",
            "\u001b[1m938/938\u001b[0m \u001b[32m━━━━━━━━━━━━━━━━━━━━\u001b[0m\u001b[37m\u001b[0m \u001b[1m5s\u001b[0m 3ms/step - accuracy: 0.9896 - loss: 0.0389 - val_accuracy: 0.9855 - val_loss: 0.0637\n",
            "Epoch 9/30\n",
            "\u001b[1m938/938\u001b[0m \u001b[32m━━━━━━━━━━━━━━━━━━━━\u001b[0m\u001b[37m\u001b[0m \u001b[1m3s\u001b[0m 4ms/step - accuracy: 0.9899 - loss: 0.0355 - val_accuracy: 0.9892 - val_loss: 0.0561\n",
            "Epoch 10/30\n",
            "\u001b[1m938/938\u001b[0m \u001b[32m━━━━━━━━━━━━━━━━━━━━\u001b[0m\u001b[37m\u001b[0m \u001b[1m3s\u001b[0m 3ms/step - accuracy: 0.9925 - loss: 0.0292 - val_accuracy: 0.9879 - val_loss: 0.0643\n",
            "Epoch 11/30\n",
            "\u001b[1m938/938\u001b[0m \u001b[32m━━━━━━━━━━━━━━━━━━━━\u001b[0m\u001b[37m\u001b[0m \u001b[1m3s\u001b[0m 3ms/step - accuracy: 0.9922 - loss: 0.0294 - val_accuracy: 0.9872 - val_loss: 0.0629\n",
            "Epoch 12/30\n",
            "\u001b[1m938/938\u001b[0m \u001b[32m━━━━━━━━━━━━━━━━━━━━\u001b[0m\u001b[37m\u001b[0m \u001b[1m3s\u001b[0m 3ms/step - accuracy: 0.9930 - loss: 0.0251 - val_accuracy: 0.9865 - val_loss: 0.0661\n",
            "Epoch 13/30\n",
            "\u001b[1m938/938\u001b[0m \u001b[32m━━━━━━━━━━━━━━━━━━━━\u001b[0m\u001b[37m\u001b[0m \u001b[1m6s\u001b[0m 4ms/step - accuracy: 0.9938 - loss: 0.0250 - val_accuracy: 0.9856 - val_loss: 0.0731\n",
            "Epoch 14/30\n",
            "\u001b[1m938/938\u001b[0m \u001b[32m━━━━━━━━━━━━━━━━━━━━\u001b[0m\u001b[37m\u001b[0m \u001b[1m3s\u001b[0m 3ms/step - accuracy: 0.9945 - loss: 0.0233 - val_accuracy: 0.9882 - val_loss: 0.0635\n",
            "Epoch 15/30\n",
            "\u001b[1m938/938\u001b[0m \u001b[32m━━━━━━━━━━━━━━━━━━━━\u001b[0m\u001b[37m\u001b[0m \u001b[1m4s\u001b[0m 5ms/step - accuracy: 0.9941 - loss: 0.0256 - val_accuracy: 0.9881 - val_loss: 0.0681\n",
            "Epoch 16/30\n",
            "\u001b[1m938/938\u001b[0m \u001b[32m━━━━━━━━━━━━━━━━━━━━\u001b[0m\u001b[37m\u001b[0m \u001b[1m4s\u001b[0m 4ms/step - accuracy: 0.9946 - loss: 0.0210 - val_accuracy: 0.9857 - val_loss: 0.0834\n",
            "Epoch 17/30\n",
            "\u001b[1m938/938\u001b[0m \u001b[32m━━━━━━━━━━━━━━━━━━━━\u001b[0m\u001b[37m\u001b[0m \u001b[1m3s\u001b[0m 3ms/step - accuracy: 0.9950 - loss: 0.0193 - val_accuracy: 0.9893 - val_loss: 0.0730\n",
            "Epoch 18/30\n",
            "\u001b[1m938/938\u001b[0m \u001b[32m━━━━━━━━━━━━━━━━━━━━\u001b[0m\u001b[37m\u001b[0m \u001b[1m3s\u001b[0m 3ms/step - accuracy: 0.9957 - loss: 0.0175 - val_accuracy: 0.9867 - val_loss: 0.0788\n",
            "Epoch 19/30\n",
            "\u001b[1m938/938\u001b[0m \u001b[32m━━━━━━━━━━━━━━━━━━━━\u001b[0m\u001b[37m\u001b[0m \u001b[1m6s\u001b[0m 3ms/step - accuracy: 0.9961 - loss: 0.0163 - val_accuracy: 0.9887 - val_loss: 0.0832\n",
            "Epoch 20/30\n",
            "\u001b[1m938/938\u001b[0m \u001b[32m━━━━━━━━━━━━━━━━━━━━\u001b[0m\u001b[37m\u001b[0m \u001b[1m5s\u001b[0m 3ms/step - accuracy: 0.9959 - loss: 0.0172 - val_accuracy: 0.9879 - val_loss: 0.0811\n",
            "Epoch 21/30\n",
            "\u001b[1m938/938\u001b[0m \u001b[32m━━━━━━━━━━━━━━━━━━━━\u001b[0m\u001b[37m\u001b[0m \u001b[1m3s\u001b[0m 3ms/step - accuracy: 0.9958 - loss: 0.0150 - val_accuracy: 0.9887 - val_loss: 0.0914\n",
            "Epoch 22/30\n",
            "\u001b[1m938/938\u001b[0m \u001b[32m━━━━━━━━━━━━━━━━━━━━\u001b[0m\u001b[37m\u001b[0m \u001b[1m3s\u001b[0m 3ms/step - accuracy: 0.9963 - loss: 0.0161 - val_accuracy: 0.9878 - val_loss: 0.1099\n",
            "Epoch 23/30\n",
            "\u001b[1m938/938\u001b[0m \u001b[32m━━━━━━━━━━━━━━━━━━━━\u001b[0m\u001b[37m\u001b[0m \u001b[1m5s\u001b[0m 3ms/step - accuracy: 0.9962 - loss: 0.0138 - val_accuracy: 0.9855 - val_loss: 0.1158\n",
            "Epoch 24/30\n",
            "\u001b[1m938/938\u001b[0m \u001b[32m━━━━━━━━━━━━━━━━━━━━\u001b[0m\u001b[37m\u001b[0m \u001b[1m5s\u001b[0m 3ms/step - accuracy: 0.9964 - loss: 0.0138 - val_accuracy: 0.9876 - val_loss: 0.0994\n",
            "Epoch 25/30\n",
            "\u001b[1m938/938\u001b[0m \u001b[32m━━━━━━━━━━━━━━━━━━━━\u001b[0m\u001b[37m\u001b[0m \u001b[1m6s\u001b[0m 4ms/step - accuracy: 0.9967 - loss: 0.0123 - val_accuracy: 0.9884 - val_loss: 0.0850\n",
            "Epoch 26/30\n",
            "\u001b[1m938/938\u001b[0m \u001b[32m━━━━━━━━━━━━━━━━━━━━\u001b[0m\u001b[37m\u001b[0m \u001b[1m3s\u001b[0m 3ms/step - accuracy: 0.9975 - loss: 0.0093 - val_accuracy: 0.9887 - val_loss: 0.1088\n",
            "Epoch 27/30\n",
            "\u001b[1m938/938\u001b[0m \u001b[32m━━━━━━━━━━━━━━━━━━━━\u001b[0m\u001b[37m\u001b[0m \u001b[1m5s\u001b[0m 3ms/step - accuracy: 0.9971 - loss: 0.0116 - val_accuracy: 0.9892 - val_loss: 0.1056\n",
            "Epoch 28/30\n",
            "\u001b[1m938/938\u001b[0m \u001b[32m━━━━━━━━━━━━━━━━━━━━\u001b[0m\u001b[37m\u001b[0m \u001b[1m3s\u001b[0m 4ms/step - accuracy: 0.9967 - loss: 0.0119 - val_accuracy: 0.9886 - val_loss: 0.0973\n",
            "Epoch 29/30\n",
            "\u001b[1m938/938\u001b[0m \u001b[32m━━━━━━━━━━━━━━━━━━━━\u001b[0m\u001b[37m\u001b[0m \u001b[1m3s\u001b[0m 3ms/step - accuracy: 0.9970 - loss: 0.0127 - val_accuracy: 0.9891 - val_loss: 0.0888\n",
            "Epoch 30/30\n",
            "\u001b[1m938/938\u001b[0m \u001b[32m━━━━━━━━━━━━━━━━━━━━\u001b[0m\u001b[37m\u001b[0m \u001b[1m3s\u001b[0m 3ms/step - accuracy: 0.9960 - loss: 0.0179 - val_accuracy: 0.9898 - val_loss: 0.0952\n",
            "\u001b[1m313/313\u001b[0m \u001b[32m━━━━━━━━━━━━━━━━━━━━\u001b[0m\u001b[37m\u001b[0m \u001b[1m1s\u001b[0m 2ms/step - accuracy: 0.9875 - loss: 0.1185\n",
            "Accuracy:  0.989799976348877\n"
          ]
        }
      ],
      "source": [
        "(x_train, y_train), (x_test, y_test) = mnist.load_data()\n",
        "\n",
        "x_train = x_train / 255.0\n",
        "x_test = x_test / 255.0\n",
        "\n",
        "x_train = x_train.reshape(x_train.shape[0], 28, 28, 1)\n",
        "x_test = x_test.reshape(x_test.shape[0], 28, 28, 1)\n",
        "\n",
        "model = Sequential()\n",
        "model.add(Conv2D(32, (3, 3), activation='relu', input_shape=(28, 28, 1)))\n",
        "model.add(MaxPooling2D((2, 2)))\n",
        "model.add(Conv2D(64, (3, 3), activation='relu'))\n",
        "model.add(MaxPooling2D((2, 2)))\n",
        "model.add(Conv2D(128, (3, 3), activation='relu'))\n",
        "model.add(MaxPooling2D((2, 2)))\n",
        "model.add(Flatten())\n",
        "model.add(Dense(128, activation='relu'))\n",
        "model.add(Dropout(0.5))\n",
        "model.add(Dense(64, activation='relu'))\n",
        "model.add(Dropout(0.5))\n",
        "model.add(Dense(10, activation='softmax'))\n",
        "\n",
        "model.compile(optimizer=Adam(learning_rate=0.001), loss='sparse_categorical_crossentropy', metrics=['accuracy'])\n",
        "\n",
        "history = model.fit(x_train, y_train, epochs=30, batch_size=64, validation_data=(x_test, y_test))\n",
        "\n",
        "_, accuracy = model.evaluate(x_test, y_test)\n",
        "print('Accuracy: ', accuracy)\n",
        "\n",
        "\n"
      ]
    },
    {
      "cell_type": "markdown",
      "id": "8ab3c4af",
      "metadata": {
        "id": "8ab3c4af"
      },
      "source": [
        "I  Got a perfect Accuracy of 98%"
      ]
    },
    {
      "cell_type": "markdown",
      "id": "258def2c",
      "metadata": {
        "id": "258def2c"
      },
      "source": [
        "Now plotting for better insights of training and validation accuracy"
      ]
    },
    {
      "cell_type": "code",
      "execution_count": 3,
      "id": "46c32976",
      "metadata": {
        "colab": {
          "base_uri": "https://localhost:8080/",
          "height": 564
        },
        "id": "46c32976",
        "outputId": "9f9c52a1-c7ce-42cd-d778-5ce4bf046321"
      },
      "outputs": [
        {
          "output_type": "display_data",
          "data": {
            "text/plain": [
              "<Figure size 1200x600 with 2 Axes>"
            ],
            "image/png": "[encoded data removed]"
          },
          "metadata": {}
        }
      ],
      "source": [
        "import matplotlib.pyplot as plt\n",
        "plt.figure(figsize=(12, 6))\n",
        "plt.subplot(1, 2, 1)\n",
        "plt.plot(history.history['accuracy'])\n",
        "plt.plot(history.history['val_accuracy'])\n",
        "plt.title('Model Accuracy')\n",
        "plt.ylabel('Accuracy')\n",
        "plt.xlabel('Epoch')\n",
        "plt.legend(['Train', 'Validation'], loc='upper left')\n",
        "\n",
        "plt.subplot(1, 2, 2)\n",
        "plt.plot(history.history['loss'])\n",
        "plt.plot(history.history['val_loss'])\n",
        "plt.title('Model Loss')\n",
        "plt.ylabel('Loss')\n",
        "plt.xlabel('Epoch')\n",
        "plt.legend(['Train', 'Validation'], loc='upper left')\n",
        "plt.show()"
      ]
    },
    {
      "cell_type": "code",
      "execution_count": 4,
      "id": "5bba518d",
      "metadata": {
        "colab": {
          "base_uri": "https://localhost:8080/",
          "height": 448
        },
        "id": "5bba518d",
        "outputId": "9049a9ac-db63-41c9-fae7-c621f018d50e"
      },
      "outputs": [
        {
          "output_type": "execute_result",
          "data": {
            "text/plain": [
              "<matplotlib.image.AxesImage at 0x7f51701c1b40>"
            ]
          },
          "metadata": {},
          "execution_count": 4
        },
        {
          "output_type": "display_data",
          "data": {
            "text/plain": [
              "<Figure size 640x480 with 1 Axes>"
            ],
            "image/png": "[encoded data removed]"
          },
          "metadata": {}
        }
      ],
      "source": [
        "plt.imshow(x_train[2])"
      ]
    },
    {
      "cell_type": "code",
      "execution_count": 5,
      "id": "6682791e",
      "metadata": {
        "colab": {
          "base_uri": "https://localhost:8080/",
          "height": 448
        },
        "id": "6682791e",
        "outputId": "d2f5261d-68e1-4cbc-c709-ddc1f5221a84"
      },
      "outputs": [
        {
          "output_type": "execute_result",
          "data": {
            "text/plain": [
              "<matplotlib.image.AxesImage at 0x7f516d9df190>"
            ]
          },
          "metadata": {},
          "execution_count": 5
        },
        {
          "output_type": "display_data",
          "data": {
            "text/plain": [
              "<Figure size 640x480 with 1 Axes>"
            ],
            "image/png": "[encoded data removed]"
          },
          "metadata": {}
        }
      ],
      "source": [
        "plt.imshow(x_train[1])"
      ]
    },
    {
      "cell_type": "code",
      "execution_count": 6,
      "id": "3283baa5",
      "metadata": {
        "colab": {
          "base_uri": "https://localhost:8080/",
          "height": 448
        },
        "id": "3283baa5",
        "outputId": "147a0a39-6ff7-4cd9-cbe9-2505b2616f75"
      },
      "outputs": [
        {
          "output_type": "execute_result",
          "data": {
            "text/plain": [
              "<matplotlib.image.AxesImage at 0x7f516d857bb0>"
            ]
          },
          "metadata": {},
          "execution_count": 6
        },
        {
          "output_type": "display_data",
          "data": {
            "text/plain": [
              "<Figure size 640x480 with 1 Axes>"
            ],
            "image/png": "[encoded data removed]"
          },
          "metadata": {}
        }
      ],
      "source": [
        "plt.imshow(x_train[660])"
      ]
    },
    {
      "cell_type": "markdown",
      "id": "a27e73ae",
      "metadata": {
        "id": "a27e73ae"
      },
      "source": [
        "Now I am going to take any input num from the user and check my models prediction on that..."
      ]
    },
    {
      "cell_type": "code",
      "execution_count": 7,
      "id": "a26af728",
      "metadata": {
        "id": "a26af728"
      },
      "outputs": [],
      "source": [
        "from sklearn.metrics import accuracy_score\n",
        "import numpy as np"
      ]
    },
    {
      "cell_type": "code",
      "execution_count": 8,
      "id": "a17b151a",
      "metadata": {
        "colab": {
          "base_uri": "https://localhost:8080/",
          "height": 503
        },
        "id": "a17b151a",
        "outputId": "ff5afca2-8eaf-4e44-a3a2-8a389800e354"
      },
      "outputs": [
        {
          "name": "stdout",
          "output_type": "stream",
          "text": [
            "Enter an image index (between 0 and 9999) to predict: 98\n"
          ]
        },
        {
          "output_type": "display_data",
          "data": {
            "text/plain": [
              "<Figure size 640x480 with 1 Axes>"
            ],
            "image/png": "[encoded data removed]"
          },
          "metadata": {}
        },
        {
          "output_type": "stream",
          "name": "stdout",
          "text": [
            "\u001b[1m1/1\u001b[0m \u001b[32m━━━━━━━━━━━━━━━━━━━━\u001b[0m\u001b[37m\u001b[0m \u001b[1m1s\u001b[0m 680ms/step\n",
            "The predicted digit is: 6\n",
            "Accuracy of the predicted input: 100.00%\n"
          ]
        }
      ],
      "source": [
        "# Function to predict user input\n",
        "def predict_digit(img):\n",
        "    img = img.reshape(1, 28, 28, 1)\n",
        "    prediction = model.predict(img)\n",
        "    predicted_digit = np.argmax(prediction)\n",
        "    return predicted_digit\n",
        "\n",
        "# Get user input\n",
        "user_input = input(\"Enter an image index (between 0 and 9999) to predict: \")\n",
        "try:\n",
        "    index = int(user_input)\n",
        "    if index >= 0 and index < 10000:\n",
        "        sample_image = x_test[index]\n",
        "        sample_label = y_test[index]\n",
        "        plt.imshow(sample_image.reshape(28, 28), cmap='gray')\n",
        "        plt.show()\n",
        "        predicted_digit = predict_digit(sample_image)\n",
        "        print(f\"The predicted digit is: {predicted_digit}\")\n",
        "\n",
        "        # Calculate the accuracy of the predicted input\n",
        "        accuracy = accuracy_score([sample_label], [predicted_digit])\n",
        "        print(f\"Accuracy of the predicted input: {accuracy*100:.2f}%\")\n",
        "    else:\n",
        "        print(\"Invalid index. Please enter a value between 0 and 9999.\")\n",
        "except ValueError:\n",
        "    print(\"Invalid input. Please enter a number.\")"
      ]
    },
    {
      "cell_type": "markdown",
      "id": "8098651c",
      "metadata": {
        "id": "8098651c"
      },
      "source": [
        "You can see above i got 100% accuracy on that particular input it means that my model is trained perfectly.\n",
        "Now let's try one more time..."
      ]
    },
    {
      "cell_type": "code",
      "execution_count": 9,
      "id": "bad51033",
      "metadata": {
        "colab": {
          "base_uri": "https://localhost:8080/",
          "height": 503
        },
        "id": "bad51033",
        "outputId": "7d71a392-3a07-4ea7-a21a-9d3c3bb4c007"
      },
      "outputs": [
        {
          "name": "stdout",
          "output_type": "stream",
          "text": [
            "Enter an image index (between 0 and 9999) to predict: 56\n"
          ]
        },
        {
          "output_type": "display_data",
          "data": {
            "text/plain": [
              "<Figure size 640x480 with 1 Axes>"
            ],
            "image/png": "[encoded data removed]"
          },
          "metadata": {}
        },
        {
          "output_type": "stream",
          "name": "stdout",
          "text": [
            "\u001b[1m1/1\u001b[0m \u001b[32m━━━━━━━━━━━━━━━━━━━━\u001b[0m\u001b[37m\u001b[0m \u001b[1m0s\u001b[0m 16ms/step\n",
            "The predicted digit is: 4\n",
            "Accuracy of the predicted input: 100.00%\n"
          ]
        }
      ],
      "source": [
        "# Function to predict user input\n",
        "def predict_digit(img):\n",
        "    img = img.reshape(1, 28, 28, 1)\n",
        "    prediction = model.predict(img)\n",
        "    predicted_digit = np.argmax(prediction)\n",
        "    return predicted_digit\n",
        "\n",
        "# Get user input\n",
        "user_input = input(\"Enter an image index (between 0 and 9999) to predict: \")\n",
        "try:\n",
        "    index = int(user_input)\n",
        "    if index >= 0 and index < 10000:\n",
        "        sample_image = x_test[index]\n",
        "        sample_label = y_test[index]\n",
        "        plt.imshow(sample_image.reshape(28, 28), cmap='gray')\n",
        "        plt.show()\n",
        "        predicted_digit = predict_digit(sample_image)\n",
        "        print(f\"The predicted digit is: {predicted_digit}\")\n",
        "\n",
        "        # Calculate the accuracy of the predicted input\n",
        "        accuracy = accuracy_score([sample_label], [predicted_digit])\n",
        "        print(f\"Accuracy of the predicted input: {accuracy*100:.2f}%\")\n",
        "    else:\n",
        "        print(\"Invalid index. Please enter a value between 0 and 9999.\")\n",
        "except ValueError:\n",
        "    print(\"Invalid input. Please enter a number.\")"
      ]
    },
    {
      "cell_type": "code",
      "execution_count": 10,
      "id": "f2ec17cc",
      "metadata": {
        "colab": {
          "base_uri": "https://localhost:8080/",
          "height": 503
        },
        "id": "f2ec17cc",
        "outputId": "13c4b285-02fe-430d-9abc-82ae4ff92ac0"
      },
      "outputs": [
        {
          "name": "stdout",
          "output_type": "stream",
          "text": [
            "Enter an image index (between 0 and 9999) to predict: 4\n"
          ]
        },
        {
          "output_type": "display_data",
          "data": {
            "text/plain": [
              "<Figure size 640x480 with 1 Axes>"
            ],
            "image/png": "[encoded data removed]"
          },
          "metadata": {}
        },
        {
          "output_type": "stream",
          "name": "stdout",
          "text": [
            "\u001b[1m1/1\u001b[0m \u001b[32m━━━━━━━━━━━━━━━━━━━━\u001b[0m\u001b[37m\u001b[0m \u001b[1m0s\u001b[0m 16ms/step\n",
            "The predicted digit is: 4\n",
            "Accuracy of the predicted input: 100.00%\n"
          ]
        }
      ],
      "source": [
        "# Function to predict user input\n",
        "def predict_digit(img):\n",
        "    img = img.reshape(1, 28, 28, 1)\n",
        "    prediction = model.predict(img)\n",
        "    predicted_digit = np.argmax(prediction)\n",
        "    return predicted_digit\n",
        "\n",
        "# Get user input\n",
        "user_input = input(\"Enter an image index (between 0 and 9999) to predict: \")\n",
        "try:\n",
        "    index = int(user_input)\n",
        "    if index >= 0 and index < 10000:\n",
        "        sample_image = x_test[index]\n",
        "        sample_label = y_test[index]\n",
        "        plt.imshow(sample_image.reshape(28, 28), cmap='gray')\n",
        "        plt.show()\n",
        "        predicted_digit = predict_digit(sample_image)\n",
        "        print(f\"The predicted digit is: {predicted_digit}\")\n",
        "\n",
        "        # Calculate the accuracy of the predicted input\n",
        "        accuracy = accuracy_score([sample_label], [predicted_digit])\n",
        "        print(f\"Accuracy of the predicted input: {accuracy*100:.2f}%\")\n",
        "    else:\n",
        "        print(\"Invalid index. Please enter a value between 0 and 9999.\")\n",
        "except ValueError:\n",
        "    print(\"Invalid input. Please enter a number.\")"
      ]
    },
    {
      "cell_type": "code",
      "execution_count": 11,
      "id": "debd622a",
      "metadata": {
        "colab": {
          "base_uri": "https://localhost:8080/",
          "height": 503
        },
        "id": "debd622a",
        "outputId": "ac7b7e58-16cf-41b3-902d-6118bacf3c96"
      },
      "outputs": [
        {
          "name": "stdout",
          "output_type": "stream",
          "text": [
            "Enter an image index (between 0 and 9999) to predict: 6\n"
          ]
        },
        {
          "output_type": "display_data",
          "data": {
            "text/plain": [
              "<Figure size 640x480 with 1 Axes>"
            ],
            "image/png": "[encoded data removed]"
          },
          "metadata": {}
        },
        {
          "output_type": "stream",
          "name": "stdout",
          "text": [
            "\u001b[1m1/1\u001b[0m \u001b[32m━━━━━━━━━━━━━━━━━━━━\u001b[0m\u001b[37m\u001b[0m \u001b[1m0s\u001b[0m 23ms/step\n",
            "The predicted digit is: 4\n",
            "Accuracy of the predicted input: 100.00%\n"
          ]
        }
      ],
      "source": [
        "# Function to predict user input\n",
        "def predict_digit(img):\n",
        "    img = img.reshape(1, 28, 28, 1)\n",
        "    prediction = model.predict(img)\n",
        "    predicted_digit = np.argmax(prediction)\n",
        "    return predicted_digit\n",
        "\n",
        "# Get user input\n",
        "user_input = input(\"Enter an image index (between 0 and 9999) to predict: \")\n",
        "try:\n",
        "    index = int(user_input)\n",
        "    if index >= 0 and index < 10000:\n",
        "        sample_image = x_test[index]\n",
        "        sample_label = y_test[index]\n",
        "        plt.imshow(sample_image.reshape(28, 28), cmap='gray')\n",
        "        plt.show()\n",
        "        predicted_digit = predict_digit(sample_image)\n",
        "        print(f\"The predicted digit is: {predicted_digit}\")\n",
        "\n",
        "        # Calculate the accuracy of the predicted input\n",
        "        accuracy = accuracy_score([sample_label], [predicted_digit])\n",
        "        print(f\"Accuracy of the predicted input: {accuracy*100:.2f}%\")\n",
        "    else:\n",
        "        print(\"Invalid index. Please enter a value between 0 and 9999.\")\n",
        "except ValueError:\n",
        "    print(\"Invalid input. Please enter a number.\")"
      ]
    },
    {
      "cell_type": "code",
      "execution_count": 12,
      "id": "c5cf1044",
      "metadata": {
        "colab": {
          "base_uri": "https://localhost:8080/"
        },
        "id": "c5cf1044",
        "outputId": "d8ba9a81-307c-4d01-9ba5-5b9f3b5268e8"
      },
      "outputs": [
        {
          "output_type": "execute_result",
          "data": {
            "text/plain": [
              "array([[[0.        ],\n",
              "        [0.        ],\n",
              "        [0.        ],\n",
              "        [0.        ],\n",
              "        [0.        ],\n",
              "        [0.        ],\n",
              "        [0.        ],\n",
              "        [0.        ],\n",
              "        [0.        ],\n",
              "        [0.        ],\n",
              "        [0.        ],\n",
              "        [0.        ],\n",
              "        [0.        ],\n",
              "        [0.        ],\n",
              "        [0.        ],\n",
              "        [0.        ],\n",
              "        [0.        ],\n",
              "        [0.        ],\n",
              "        [0.        ],\n",
              "        [0.        ],\n",
              "        [0.        ],\n",
              "        [0.        ],\n",
              "        [0.        ],\n",
              "        [0.        ],\n",
              "        [0.        ],\n",
              "        [0.        ],\n",
              "        [0.        ],\n",
              "        [0.        ]],\n",
              "\n",
              "       [[0.        ],\n",
              "        [0.        ],\n",
              "        [0.        ],\n",
              "        [0.        ],\n",
              "        [0.        ],\n",
              "        [0.        ],\n",
              "        [0.        ],\n",
              "        [0.        ],\n",
              "        [0.        ],\n",
              "        [0.        ],\n",
              "        [0.        ],\n",
              "        [0.        ],\n",
              "        [0.        ],\n",
              "        [0.        ],\n",
              "        [0.        ],\n",
              "        [0.        ],\n",
              "        [0.        ],\n",
              "        [0.        ],\n",
              "        [0.        ],\n",
              "        [0.        ],\n",
              "        [0.        ],\n",
              "        [0.        ],\n",
              "        [0.        ],\n",
              "        [0.        ],\n",
              "        [0.        ],\n",
              "        [0.        ],\n",
              "        [0.        ],\n",
              "        [0.        ]],\n",
              "\n",
              "       [[0.        ],\n",
              "        [0.        ],\n",
              "        [0.        ],\n",
              "        [0.        ],\n",
              "        [0.        ],\n",
              "        [0.        ],\n",
              "        [0.        ],\n",
              "        [0.        ],\n",
              "        [0.        ],\n",
              "        [0.        ],\n",
              "        [0.        ],\n",
              "        [0.        ],\n",
              "        [0.        ],\n",
              "        [0.        ],\n",
              "        [0.        ],\n",
              "        [0.        ],\n",
              "        [0.        ],\n",
              "        [0.        ],\n",
              "        [0.        ],\n",
              "        [0.        ],\n",
              "        [0.        ],\n",
              "        [0.        ],\n",
              "        [0.        ],\n",
              "        [0.        ],\n",
              "        [0.        ],\n",
              "        [0.        ],\n",
              "        [0.        ],\n",
              "        [0.        ]],\n",
              "\n",
              "       [[0.        ],\n",
              "        [0.        ],\n",
              "        [0.        ],\n",
              "        [0.        ],\n",
              "        [0.        ],\n",
              "        [0.        ],\n",
              "        [0.        ],\n",
              "        [0.        ],\n",
              "        [0.        ],\n",
              "        [0.        ],\n",
              "        [0.        ],\n",
              "        [0.        ],\n",
              "        [0.        ],\n",
              "        [0.        ],\n",
              "        [0.        ],\n",
              "        [0.        ],\n",
              "        [0.        ],\n",
              "        [0.        ],\n",
              "        [0.        ],\n",
              "        [0.        ],\n",
              "        [0.        ],\n",
              "        [0.        ],\n",
              "        [0.        ],\n",
              "        [0.        ],\n",
              "        [0.        ],\n",
              "        [0.        ],\n",
              "        [0.        ],\n",
              "        [0.        ]],\n",
              "\n",
              "       [[0.        ],\n",
              "        [0.        ],\n",
              "        [0.        ],\n",
              "        [0.        ],\n",
              "        [0.        ],\n",
              "        [0.        ],\n",
              "        [0.        ],\n",
              "        [0.        ],\n",
              "        [0.        ],\n",
              "        [0.        ],\n",
              "        [0.        ],\n",
              "        [0.        ],\n",
              "        [0.        ],\n",
              "        [0.        ],\n",
              "        [0.        ],\n",
              "        [0.        ],\n",
              "        [0.        ],\n",
              "        [0.        ],\n",
              "        [0.        ],\n",
              "        [0.        ],\n",
              "        [0.        ],\n",
              "        [0.        ],\n",
              "        [0.        ],\n",
              "        [0.        ],\n",
              "        [0.        ],\n",
              "        [0.        ],\n",
              "        [0.        ],\n",
              "        [0.        ]],\n",
              "\n",
              "       [[0.        ],\n",
              "        [0.        ],\n",
              "        [0.        ],\n",
              "        [0.        ],\n",
              "        [0.        ],\n",
              "        [0.        ],\n",
              "        [0.        ],\n",
              "        [0.        ],\n",
              "        [0.        ],\n",
              "        [0.        ],\n",
              "        [0.        ],\n",
              "        [0.        ],\n",
              "        [0.        ],\n",
              "        [0.        ],\n",
              "        [0.        ],\n",
              "        [0.05098039],\n",
              "        [0.09803922],\n",
              "        [0.39215686],\n",
              "        [0.47843137],\n",
              "        [0.02745098],\n",
              "        [0.        ],\n",
              "        [0.        ],\n",
              "        [0.        ],\n",
              "        [0.        ],\n",
              "        [0.        ],\n",
              "        [0.        ],\n",
              "        [0.        ],\n",
              "        [0.        ]],\n",
              "\n",
              "       [[0.        ],\n",
              "        [0.        ],\n",
              "        [0.        ],\n",
              "        [0.        ],\n",
              "        [0.        ],\n",
              "        [0.        ],\n",
              "        [0.        ],\n",
              "        [0.        ],\n",
              "        [0.        ],\n",
              "        [0.        ],\n",
              "        [0.        ],\n",
              "        [0.        ],\n",
              "        [0.        ],\n",
              "        [0.12941176],\n",
              "        [0.59215686],\n",
              "        [0.81568627],\n",
              "        [0.98823529],\n",
              "        [0.98823529],\n",
              "        [0.98823529],\n",
              "        [0.57254902],\n",
              "        [0.        ],\n",
              "        [0.        ],\n",
              "        [0.        ],\n",
              "        [0.        ],\n",
              "        [0.        ],\n",
              "        [0.        ],\n",
              "        [0.        ],\n",
              "        [0.        ]],\n",
              "\n",
              "       [[0.        ],\n",
              "        [0.        ],\n",
              "        [0.        ],\n",
              "        [0.        ],\n",
              "        [0.        ],\n",
              "        [0.        ],\n",
              "        [0.        ],\n",
              "        [0.        ],\n",
              "        [0.        ],\n",
              "        [0.        ],\n",
              "        [0.        ],\n",
              "        [0.15686275],\n",
              "        [0.59607843],\n",
              "        [0.95686275],\n",
              "        [0.98823529],\n",
              "        [0.99215686],\n",
              "        [0.87843137],\n",
              "        [0.82745098],\n",
              "        [0.98823529],\n",
              "        [0.90980392],\n",
              "        [0.15686275],\n",
              "        [0.        ],\n",
              "        [0.        ],\n",
              "        [0.        ],\n",
              "        [0.        ],\n",
              "        [0.        ],\n",
              "        [0.        ],\n",
              "        [0.        ]],\n",
              "\n",
              "       [[0.        ],\n",
              "        [0.        ],\n",
              "        [0.        ],\n",
              "        [0.        ],\n",
              "        [0.        ],\n",
              "        [0.        ],\n",
              "        [0.        ],\n",
              "        [0.        ],\n",
              "        [0.        ],\n",
              "        [0.05882353],\n",
              "        [0.59607843],\n",
              "        [0.9372549 ],\n",
              "        [0.98823529],\n",
              "        [0.98823529],\n",
              "        [0.98823529],\n",
              "        [0.84705882],\n",
              "        [0.12156863],\n",
              "        [0.14509804],\n",
              "        [0.98823529],\n",
              "        [0.98823529],\n",
              "        [0.23529412],\n",
              "        [0.        ],\n",
              "        [0.        ],\n",
              "        [0.        ],\n",
              "        [0.        ],\n",
              "        [0.        ],\n",
              "        [0.        ],\n",
              "        [0.        ]],\n",
              "\n",
              "       [[0.        ],\n",
              "        [0.        ],\n",
              "        [0.        ],\n",
              "        [0.        ],\n",
              "        [0.        ],\n",
              "        [0.        ],\n",
              "        [0.        ],\n",
              "        [0.        ],\n",
              "        [0.        ],\n",
              "        [0.37647059],\n",
              "        [0.98823529],\n",
              "        [0.98823529],\n",
              "        [0.98823529],\n",
              "        [0.98823529],\n",
              "        [0.85098039],\n",
              "        [0.11372549],\n",
              "        [0.        ],\n",
              "        [0.14509804],\n",
              "        [0.98823529],\n",
              "        [0.98823529],\n",
              "        [0.23529412],\n",
              "        [0.        ],\n",
              "        [0.        ],\n",
              "        [0.        ],\n",
              "        [0.        ],\n",
              "        [0.        ],\n",
              "        [0.        ],\n",
              "        [0.        ]],\n",
              "\n",
              "       [[0.        ],\n",
              "        [0.        ],\n",
              "        [0.        ],\n",
              "        [0.        ],\n",
              "        [0.        ],\n",
              "        [0.        ],\n",
              "        [0.        ],\n",
              "        [0.        ],\n",
              "        [0.        ],\n",
              "        [0.70980392],\n",
              "        [0.98823529],\n",
              "        [0.98823529],\n",
              "        [0.8627451 ],\n",
              "        [0.65490196],\n",
              "        [0.11764706],\n",
              "        [0.        ],\n",
              "        [0.        ],\n",
              "        [0.30196078],\n",
              "        [0.98823529],\n",
              "        [0.98823529],\n",
              "        [0.23529412],\n",
              "        [0.        ],\n",
              "        [0.        ],\n",
              "        [0.        ],\n",
              "        [0.        ],\n",
              "        [0.        ],\n",
              "        [0.        ],\n",
              "        [0.        ]],\n",
              "\n",
              "       [[0.        ],\n",
              "        [0.        ],\n",
              "        [0.        ],\n",
              "        [0.        ],\n",
              "        [0.        ],\n",
              "        [0.        ],\n",
              "        [0.        ],\n",
              "        [0.        ],\n",
              "        [0.        ],\n",
              "        [0.10196078],\n",
              "        [0.50196078],\n",
              "        [0.22745098],\n",
              "        [0.08627451],\n",
              "        [0.        ],\n",
              "        [0.        ],\n",
              "        [0.        ],\n",
              "        [0.        ],\n",
              "        [0.39215686],\n",
              "        [0.98823529],\n",
              "        [0.98823529],\n",
              "        [0.23529412],\n",
              "        [0.        ],\n",
              "        [0.        ],\n",
              "        [0.        ],\n",
              "        [0.        ],\n",
              "        [0.        ],\n",
              "        [0.        ],\n",
              "        [0.        ]],\n",
              "\n",
              "       [[0.        ],\n",
              "        [0.        ],\n",
              "        [0.        ],\n",
              "        [0.        ],\n",
              "        [0.        ],\n",
              "        [0.        ],\n",
              "        [0.        ],\n",
              "        [0.        ],\n",
              "        [0.        ],\n",
              "        [0.        ],\n",
              "        [0.        ],\n",
              "        [0.        ],\n",
              "        [0.        ],\n",
              "        [0.        ],\n",
              "        [0.        ],\n",
              "        [0.        ],\n",
              "        [0.        ],\n",
              "        [0.61568627],\n",
              "        [0.98823529],\n",
              "        [0.98823529],\n",
              "        [0.23529412],\n",
              "        [0.        ],\n",
              "        [0.        ],\n",
              "        [0.        ],\n",
              "        [0.        ],\n",
              "        [0.        ],\n",
              "        [0.        ],\n",
              "        [0.        ]],\n",
              "\n",
              "       [[0.        ],\n",
              "        [0.        ],\n",
              "        [0.        ],\n",
              "        [0.        ],\n",
              "        [0.        ],\n",
              "        [0.        ],\n",
              "        [0.        ],\n",
              "        [0.        ],\n",
              "        [0.        ],\n",
              "        [0.        ],\n",
              "        [0.        ],\n",
              "        [0.        ],\n",
              "        [0.        ],\n",
              "        [0.43137255],\n",
              "        [0.4745098 ],\n",
              "        [0.47843137],\n",
              "        [0.4745098 ],\n",
              "        [0.79215686],\n",
              "        [0.98823529],\n",
              "        [0.76078431],\n",
              "        [0.01176471],\n",
              "        [0.        ],\n",
              "        [0.        ],\n",
              "        [0.        ],\n",
              "        [0.        ],\n",
              "        [0.        ],\n",
              "        [0.        ],\n",
              "        [0.        ]],\n",
              "\n",
              "       [[0.        ],\n",
              "        [0.        ],\n",
              "        [0.        ],\n",
              "        [0.        ],\n",
              "        [0.        ],\n",
              "        [0.        ],\n",
              "        [0.        ],\n",
              "        [0.        ],\n",
              "        [0.        ],\n",
              "        [0.        ],\n",
              "        [0.03921569],\n",
              "        [0.20784314],\n",
              "        [0.70196078],\n",
              "        [0.99215686],\n",
              "        [0.99215686],\n",
              "        [1.        ],\n",
              "        [0.99215686],\n",
              "        [0.99215686],\n",
              "        [0.89411765],\n",
              "        [0.1372549 ],\n",
              "        [0.        ],\n",
              "        [0.        ],\n",
              "        [0.        ],\n",
              "        [0.        ],\n",
              "        [0.        ],\n",
              "        [0.        ],\n",
              "        [0.        ],\n",
              "        [0.        ]],\n",
              "\n",
              "       [[0.        ],\n",
              "        [0.        ],\n",
              "        [0.        ],\n",
              "        [0.        ],\n",
              "        [0.        ],\n",
              "        [0.        ],\n",
              "        [0.        ],\n",
              "        [0.        ],\n",
              "        [0.01960784],\n",
              "        [0.21176471],\n",
              "        [0.89019608],\n",
              "        [0.98823529],\n",
              "        [0.95294118],\n",
              "        [0.89411765],\n",
              "        [0.66666667],\n",
              "        [0.94901961],\n",
              "        [0.98823529],\n",
              "        [0.98823529],\n",
              "        [0.90588235],\n",
              "        [0.45882353],\n",
              "        [0.02352941],\n",
              "        [0.        ],\n",
              "        [0.        ],\n",
              "        [0.        ],\n",
              "        [0.        ],\n",
              "        [0.        ],\n",
              "        [0.        ],\n",
              "        [0.        ]],\n",
              "\n",
              "       [[0.        ],\n",
              "        [0.        ],\n",
              "        [0.        ],\n",
              "        [0.        ],\n",
              "        [0.        ],\n",
              "        [0.        ],\n",
              "        [0.        ],\n",
              "        [0.02352941],\n",
              "        [0.30588235],\n",
              "        [0.98823529],\n",
              "        [0.98823529],\n",
              "        [0.49019608],\n",
              "        [0.23137255],\n",
              "        [0.        ],\n",
              "        [0.07058824],\n",
              "        [0.81568627],\n",
              "        [0.98823529],\n",
              "        [0.98823529],\n",
              "        [0.98823529],\n",
              "        [0.98823529],\n",
              "        [0.34117647],\n",
              "        [0.02745098],\n",
              "        [0.        ],\n",
              "        [0.        ],\n",
              "        [0.        ],\n",
              "        [0.        ],\n",
              "        [0.        ],\n",
              "        [0.        ]],\n",
              "\n",
              "       [[0.        ],\n",
              "        [0.        ],\n",
              "        [0.        ],\n",
              "        [0.        ],\n",
              "        [0.        ],\n",
              "        [0.        ],\n",
              "        [0.01960784],\n",
              "        [0.52941176],\n",
              "        [0.98823529],\n",
              "        [0.98823529],\n",
              "        [0.70588235],\n",
              "        [0.0627451 ],\n",
              "        [0.        ],\n",
              "        [0.08235294],\n",
              "        [0.79607843],\n",
              "        [0.99215686],\n",
              "        [0.96862745],\n",
              "        [0.50588235],\n",
              "        [0.67843137],\n",
              "        [0.98823529],\n",
              "        [0.98823529],\n",
              "        [0.72156863],\n",
              "        [0.25882353],\n",
              "        [0.19215686],\n",
              "        [0.19215686],\n",
              "        [0.        ],\n",
              "        [0.        ],\n",
              "        [0.        ]],\n",
              "\n",
              "       [[0.        ],\n",
              "        [0.        ],\n",
              "        [0.        ],\n",
              "        [0.        ],\n",
              "        [0.        ],\n",
              "        [0.01176471],\n",
              "        [0.53333333],\n",
              "        [0.98823529],\n",
              "        [0.94509804],\n",
              "        [0.41568627],\n",
              "        [0.06666667],\n",
              "        [0.        ],\n",
              "        [0.20784314],\n",
              "        [0.78431373],\n",
              "        [0.98823529],\n",
              "        [0.84705882],\n",
              "        [0.25490196],\n",
              "        [0.        ],\n",
              "        [0.05490196],\n",
              "        [0.28235294],\n",
              "        [0.63921569],\n",
              "        [0.94509804],\n",
              "        [0.98823529],\n",
              "        [0.98823529],\n",
              "        [0.8745098 ],\n",
              "        [0.        ],\n",
              "        [0.        ],\n",
              "        [0.        ]],\n",
              "\n",
              "       [[0.        ],\n",
              "        [0.        ],\n",
              "        [0.        ],\n",
              "        [0.        ],\n",
              "        [0.        ],\n",
              "        [0.41176471],\n",
              "        [0.98823529],\n",
              "        [0.94901961],\n",
              "        [0.34509804],\n",
              "        [0.07058824],\n",
              "        [0.28627451],\n",
              "        [0.66666667],\n",
              "        [0.95686275],\n",
              "        [0.98823529],\n",
              "        [0.49411765],\n",
              "        [0.11372549],\n",
              "        [0.        ],\n",
              "        [0.        ],\n",
              "        [0.        ],\n",
              "        [0.        ],\n",
              "        [0.        ],\n",
              "        [0.34901961],\n",
              "        [0.70588235],\n",
              "        [0.70588235],\n",
              "        [0.14509804],\n",
              "        [0.        ],\n",
              "        [0.        ],\n",
              "        [0.        ]],\n",
              "\n",
              "       [[0.        ],\n",
              "        [0.        ],\n",
              "        [0.        ],\n",
              "        [0.        ],\n",
              "        [0.        ],\n",
              "        [0.90588235],\n",
              "        [0.98823529],\n",
              "        [0.96078431],\n",
              "        [0.80392157],\n",
              "        [0.84705882],\n",
              "        [0.98823529],\n",
              "        [0.98823529],\n",
              "        [0.98823529],\n",
              "        [0.48627451],\n",
              "        [0.01176471],\n",
              "        [0.        ],\n",
              "        [0.        ],\n",
              "        [0.        ],\n",
              "        [0.        ],\n",
              "        [0.        ],\n",
              "        [0.        ],\n",
              "        [0.        ],\n",
              "        [0.        ],\n",
              "        [0.        ],\n",
              "        [0.        ],\n",
              "        [0.        ],\n",
              "        [0.        ],\n",
              "        [0.        ]],\n",
              "\n",
              "       [[0.        ],\n",
              "        [0.        ],\n",
              "        [0.        ],\n",
              "        [0.        ],\n",
              "        [0.        ],\n",
              "        [0.81176471],\n",
              "        [0.98823529],\n",
              "        [0.98823529],\n",
              "        [0.98823529],\n",
              "        [0.98823529],\n",
              "        [0.69803922],\n",
              "        [0.45490196],\n",
              "        [0.14117647],\n",
              "        [0.01568627],\n",
              "        [0.        ],\n",
              "        [0.        ],\n",
              "        [0.        ],\n",
              "        [0.        ],\n",
              "        [0.        ],\n",
              "        [0.        ],\n",
              "        [0.        ],\n",
              "        [0.        ],\n",
              "        [0.        ],\n",
              "        [0.        ],\n",
              "        [0.        ],\n",
              "        [0.        ],\n",
              "        [0.        ],\n",
              "        [0.        ]],\n",
              "\n",
              "       [[0.        ],\n",
              "        [0.        ],\n",
              "        [0.        ],\n",
              "        [0.        ],\n",
              "        [0.        ],\n",
              "        [0.05098039],\n",
              "        [0.36470588],\n",
              "        [0.56078431],\n",
              "        [0.4745098 ],\n",
              "        [0.09019608],\n",
              "        [0.02352941],\n",
              "        [0.        ],\n",
              "        [0.        ],\n",
              "        [0.        ],\n",
              "        [0.        ],\n",
              "        [0.        ],\n",
              "        [0.        ],\n",
              "        [0.        ],\n",
              "        [0.        ],\n",
              "        [0.        ],\n",
              "        [0.        ],\n",
              "        [0.        ],\n",
              "        [0.        ],\n",
              "        [0.        ],\n",
              "        [0.        ],\n",
              "        [0.        ],\n",
              "        [0.        ],\n",
              "        [0.        ]],\n",
              "\n",
              "       [[0.        ],\n",
              "        [0.        ],\n",
              "        [0.        ],\n",
              "        [0.        ],\n",
              "        [0.        ],\n",
              "        [0.        ],\n",
              "        [0.        ],\n",
              "        [0.        ],\n",
              "        [0.        ],\n",
              "        [0.        ],\n",
              "        [0.        ],\n",
              "        [0.        ],\n",
              "        [0.        ],\n",
              "        [0.        ],\n",
              "        [0.        ],\n",
              "        [0.        ],\n",
              "        [0.        ],\n",
              "        [0.        ],\n",
              "        [0.        ],\n",
              "        [0.        ],\n",
              "        [0.        ],\n",
              "        [0.        ],\n",
              "        [0.        ],\n",
              "        [0.        ],\n",
              "        [0.        ],\n",
              "        [0.        ],\n",
              "        [0.        ],\n",
              "        [0.        ]],\n",
              "\n",
              "       [[0.        ],\n",
              "        [0.        ],\n",
              "        [0.        ],\n",
              "        [0.        ],\n",
              "        [0.        ],\n",
              "        [0.        ],\n",
              "        [0.        ],\n",
              "        [0.        ],\n",
              "        [0.        ],\n",
              "        [0.        ],\n",
              "        [0.        ],\n",
              "        [0.        ],\n",
              "        [0.        ],\n",
              "        [0.        ],\n",
              "        [0.        ],\n",
              "        [0.        ],\n",
              "        [0.        ],\n",
              "        [0.        ],\n",
              "        [0.        ],\n",
              "        [0.        ],\n",
              "        [0.        ],\n",
              "        [0.        ],\n",
              "        [0.        ],\n",
              "        [0.        ],\n",
              "        [0.        ],\n",
              "        [0.        ],\n",
              "        [0.        ],\n",
              "        [0.        ]],\n",
              "\n",
              "       [[0.        ],\n",
              "        [0.        ],\n",
              "        [0.        ],\n",
              "        [0.        ],\n",
              "        [0.        ],\n",
              "        [0.        ],\n",
              "        [0.        ],\n",
              "        [0.        ],\n",
              "        [0.        ],\n",
              "        [0.        ],\n",
              "        [0.        ],\n",
              "        [0.        ],\n",
              "        [0.        ],\n",
              "        [0.        ],\n",
              "        [0.        ],\n",
              "        [0.        ],\n",
              "        [0.        ],\n",
              "        [0.        ],\n",
              "        [0.        ],\n",
              "        [0.        ],\n",
              "        [0.        ],\n",
              "        [0.        ],\n",
              "        [0.        ],\n",
              "        [0.        ],\n",
              "        [0.        ],\n",
              "        [0.        ],\n",
              "        [0.        ],\n",
              "        [0.        ]],\n",
              "\n",
              "       [[0.        ],\n",
              "        [0.        ],\n",
              "        [0.        ],\n",
              "        [0.        ],\n",
              "        [0.        ],\n",
              "        [0.        ],\n",
              "        [0.        ],\n",
              "        [0.        ],\n",
              "        [0.        ],\n",
              "        [0.        ],\n",
              "        [0.        ],\n",
              "        [0.        ],\n",
              "        [0.        ],\n",
              "        [0.        ],\n",
              "        [0.        ],\n",
              "        [0.        ],\n",
              "        [0.        ],\n",
              "        [0.        ],\n",
              "        [0.        ],\n",
              "        [0.        ],\n",
              "        [0.        ],\n",
              "        [0.        ],\n",
              "        [0.        ],\n",
              "        [0.        ],\n",
              "        [0.        ],\n",
              "        [0.        ],\n",
              "        [0.        ],\n",
              "        [0.        ]],\n",
              "\n",
              "       [[0.        ],\n",
              "        [0.        ],\n",
              "        [0.        ],\n",
              "        [0.        ],\n",
              "        [0.        ],\n",
              "        [0.        ],\n",
              "        [0.        ],\n",
              "        [0.        ],\n",
              "        [0.        ],\n",
              "        [0.        ],\n",
              "        [0.        ],\n",
              "        [0.        ],\n",
              "        [0.        ],\n",
              "        [0.        ],\n",
              "        [0.        ],\n",
              "        [0.        ],\n",
              "        [0.        ],\n",
              "        [0.        ],\n",
              "        [0.        ],\n",
              "        [0.        ],\n",
              "        [0.        ],\n",
              "        [0.        ],\n",
              "        [0.        ],\n",
              "        [0.        ],\n",
              "        [0.        ],\n",
              "        [0.        ],\n",
              "        [0.        ],\n",
              "        [0.        ]]])"
            ]
          },
          "metadata": {},
          "execution_count": 12
        }
      ],
      "source": [
        "x_train[5]"
      ]
    },
    {
      "cell_type": "markdown",
      "source": [
        "  Now lets Take an image input from the user to check model prediction"
      ],
      "metadata": {
        "id": "bh0QgZGOckK7"
      },
      "id": "bh0QgZGOckK7"
    },
    {
      "cell_type": "code",
      "execution_count": 13,
      "id": "a6fda3a6",
      "metadata": {
        "id": "a6fda3a6"
      },
      "outputs": [],
      "source": [
        "from tensorflow.keras.preprocessing import image"
      ]
    },
    {
      "cell_type": "code",
      "execution_count": 14,
      "id": "359c07d5",
      "metadata": {
        "id": "359c07d5"
      },
      "outputs": [],
      "source": [
        "def preprocess_image(image_path):\n",
        "    img = image.load_img(image_path, color_mode=\"grayscale\", target_size=(28, 28))\n",
        "    img = image.img_to_array(img)\n",
        "    img = img / 255.0\n",
        "    img = np.expand_dims(img, axis=0)\n",
        "    return img\n",
        "\n",
        "def predict_digit(image_path):\n",
        "    img = preprocess_image(image_path)\n",
        "    prediction = model.predict(img)\n",
        "    predicted_digit = np.argmax(prediction)\n",
        "    plt.imshow(img.reshape(28, 28), cmap='gray')\n",
        "    plt.title(f'Predicted Digit: {predicted_digit}')\n",
        "    plt.axis('off')\n",
        "    plt.show()\n",
        "    return predicted_digit"
      ]
    },
    {
      "cell_type": "code",
      "execution_count": 16,
      "id": "80b3e726",
      "metadata": {
        "colab": {
          "base_uri": "https://localhost:8080/",
          "height": 464
        },
        "id": "80b3e726",
        "outputId": "f218ca7e-8f06-42c5-ce09-ef883d2678fc"
      },
      "outputs": [
        {
          "output_type": "stream",
          "name": "stdout",
          "text": [
            "\u001b[1m1/1\u001b[0m \u001b[32m━━━━━━━━━━━━━━━━━━━━\u001b[0m\u001b[37m\u001b[0m \u001b[1m0s\u001b[0m 87ms/step\n"
          ]
        },
        {
          "output_type": "display_data",
          "data": {
            "text/plain": [
              "<Figure size 640x480 with 1 Axes>"
            ],
            "image/png": "[encoded data removed]"
          },
          "metadata": {}
        },
        {
          "output_type": "execute_result",
          "data": {
            "text/plain": [
              "2"
            ]
          },
          "metadata": {},
          "execution_count": 16
        }
      ],
      "source": [
        "predict_digit('/content/num.png')"
      ]
    },
    {
      "cell_type": "code",
      "execution_count": 17,
      "id": "315b1178",
      "metadata": {
        "colab": {
          "base_uri": "https://localhost:8080/",
          "height": 464
        },
        "id": "315b1178",
        "outputId": "6fc57826-6040-4b69-e343-90b5bcc9e982"
      },
      "outputs": [
        {
          "output_type": "stream",
          "name": "stdout",
          "text": [
            "\u001b[1m1/1\u001b[0m \u001b[32m━━━━━━━━━━━━━━━━━━━━\u001b[0m\u001b[37m\u001b[0m \u001b[1m0s\u001b[0m 27ms/step\n"
          ]
        },
        {
          "output_type": "display_data",
          "data": {
            "text/plain": [
              "<Figure size 640x480 with 1 Axes>"
            ],
            "image/png": "[encoded data removed]"
          },
          "metadata": {}
        },
        {
          "output_type": "execute_result",
          "data": {
            "text/plain": [
              "8"
            ]
          },
          "metadata": {},
          "execution_count": 17
        }
      ],
      "source": [
        "predict_digit('/content/h.png')"
      ]
    }
  ],
  "metadata": {
    "kernelspec": {
      "display_name": "Python 3",
      "name": "python3"
    },
    "language_info": {
      "codemirror_mode": {
        "name": "ipython",
        "version": 3
      },
      "file_extension": ".py",
      "mimetype": "text/x-python",
      "name": "python",
      "nbconvert_exporter": "python",
      "pygments_lexer": "ipython3",
      "version": "3.11.5"
    },
    "colab": {
      "provenance": [],
      "gpuType": "T4"
    },
    "accelerator": "GPU"
  },
  "nbformat": 4,
  "nbformat_minor": 5
}